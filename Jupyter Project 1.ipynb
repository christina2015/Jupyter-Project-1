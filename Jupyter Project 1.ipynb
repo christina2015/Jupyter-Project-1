{
  "metadata": {
    "language_info": {
      "codemirror_mode": {
        "name": "python",
        "version": 3
      },
      "file_extension": ".py",
      "mimetype": "text/x-python",
      "name": "python",
      "nbconvert_exporter": "python",
      "pygments_lexer": "ipython3",
      "version": "3.8"
    },
    "kernelspec": {
      "name": "python",
      "display_name": "Pyolite",
      "language": "python"
    }
  },
  "nbformat_minor": 4,
  "nbformat": 4,
  "cells": [
    {
      "cell_type": "markdown",
      "source": "# My Jupyter Notebook on IBM Watson Studio",
      "metadata": {}
    },
    {
      "cell_type": "markdown",
      "source": "**Christine Arredondo**\nCurrent Occupation is customer service",
      "metadata": {}
    },
    {
      "cell_type": "markdown",
      "source": "_Im interested in data science because its something different, and new for me to learn._",
      "metadata": {}
    },
    {
      "cell_type": "markdown",
      "source": "### My code is to subtract ",
      "metadata": {}
    },
    {
      "cell_type": "code",
      "source": "6-3",
      "metadata": {
        "trusted": true
      },
      "execution_count": 5,
      "outputs": [
        {
          "execution_count": 5,
          "output_type": "execute_result",
          "data": {
            "text/plain": "3"
          },
          "metadata": {}
        }
      ]
    },
    {
      "cell_type": "markdown",
      "source": "1. A\n2. B\n3. C\n\n~~Scratch this~~\n\n| This | is   |\n|------|------|\n|   a  | table| ",
      "metadata": {}
    }
  ]
}